{
 "cells": [
  {
   "cell_type": "code",
   "execution_count": 1,
   "id": "177c5329",
   "metadata": {
    "scrolled": true
   },
   "outputs": [
    {
     "name": "stdout",
     "output_type": "stream",
     "text": [
      "6\n",
      "gaga\n",
      "YES\n",
      "abcde\n",
      "NO\n",
      "rotor\n",
      "YES\n",
      "xyzxy\n",
      "YES\n",
      "abbaab\n",
      "NO\n",
      "ababc\n",
      "NO\n"
     ]
    }
   ],
   "source": [
    "n = int(input())\n",
    "while n:\n",
    "    n -= 1\n",
    "    string = input()        # input is already in string format so no need to type-cast\n",
    "    halve = len(string) // 2\n",
    "    if len(string) % 2 == 0:\n",
    "        if sorted(string[:halve]) == sorted(string[halve:]):\n",
    "            print('YES')\n",
    "        else:\n",
    "            print('NO')\n",
    "    else:\n",
    "        if sorted(string[:halve]) == sorted(string[halve + 1:]):\n",
    "            print('YES')\n",
    "        else:\n",
    "            print('NO')"
   ]
  },
  {
   "cell_type": "code",
   "execution_count": null,
   "id": "c8824560",
   "metadata": {},
   "outputs": [],
   "source": []
  }
 ],
 "metadata": {
  "kernelspec": {
   "display_name": "Python 3 (ipykernel)",
   "language": "python",
   "name": "python3"
  },
  "language_info": {
   "codemirror_mode": {
    "name": "ipython",
    "version": 3
   },
   "file_extension": ".py",
   "mimetype": "text/x-python",
   "name": "python",
   "nbconvert_exporter": "python",
   "pygments_lexer": "ipython3",
   "version": "3.9.7"
  }
 },
 "nbformat": 4,
 "nbformat_minor": 5
}
