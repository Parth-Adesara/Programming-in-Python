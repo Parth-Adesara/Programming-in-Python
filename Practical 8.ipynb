{
 "cells": [
  {
   "cell_type": "code",
   "execution_count": 1,
   "id": "60ae0e4c",
   "metadata": {},
   "outputs": [
    {
     "name": "stdout",
     "output_type": "stream",
     "text": [
      "Pushing operation in stack\n",
      "1 is added to the stack\n",
      "2 is added to the stack\n",
      "3 is added to the stack\n",
      "4 is added to the stack\n",
      "Stack is 1 2 3 4 \n",
      "Popping operation in stack\n",
      "Stack is 1 2 3 "
     ]
    }
   ],
   "source": [
    "class Stack:\n",
    "    def __init__(self):\n",
    "         self.stack = []\n",
    "\n",
    "    def check_empty(self):\n",
    "        return self.stack == []\n",
    "\n",
    "    def push(self, data):\n",
    "        self.stack.append(data)\n",
    "        print(f\"{data} is added to the stack\")\n",
    "\n",
    "    def pop(self):\n",
    "        if(self.check_empty()):\n",
    "            return \"Stack is Empty\"\n",
    "\n",
    "        return self.stack.pop()\n",
    "\n",
    "    def display(self):\n",
    "        print(\"Stack is \",end=\"\")\n",
    "        for i in self.stack:\n",
    "            print(i,end=\" \")\n",
    "\n",
    "stack = Stack()\n",
    "print(\"Pushing operation in stack\")\n",
    "stack.push(\"1\")\n",
    "stack.push(\"2\")\n",
    "stack.push(\"3\")\n",
    "stack.push(\"4\")\n",
    "stack.display()\n",
    "print(\"\\nPopping operation in stack\")\n",
    "stack.pop()\n",
    "stack.display()"
   ]
  },
  {
   "cell_type": "code",
   "execution_count": null,
   "id": "eb02c7c3",
   "metadata": {},
   "outputs": [],
   "source": []
  }
 ],
 "metadata": {
  "kernelspec": {
   "display_name": "Python 3 (ipykernel)",
   "language": "python",
   "name": "python3"
  },
  "language_info": {
   "codemirror_mode": {
    "name": "ipython",
    "version": 3
   },
   "file_extension": ".py",
   "mimetype": "text/x-python",
   "name": "python",
   "nbconvert_exporter": "python",
   "pygments_lexer": "ipython3",
   "version": "3.9.7"
  }
 },
 "nbformat": 4,
 "nbformat_minor": 5
}
