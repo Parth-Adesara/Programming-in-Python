{
 "cells": [
  {
   "cell_type": "code",
   "execution_count": 1,
   "id": "34409096",
   "metadata": {},
   "outputs": [
    {
     "name": "stdout",
     "output_type": "stream",
     "text": [
      "The rectangle started with bottom left corner at (8.0,3.0)\n",
      "Top right corner at (9.0,6.0)\n",
      "dx is 15.0 and dy is 16.0\n",
      "It ended with a bottom left corner at (23.0,19.0)\n",
      "Top right corner at (24.0,22.0)\n"
     ]
    }
   ],
   "source": [
    "class Point(object):\n",
    "    pass\n",
    "\n",
    "class Rectangle(object):\n",
    "    pass\n",
    "\n",
    "rectangle = Rectangle()\n",
    "\n",
    "bottom_left = Point()\n",
    "bottom_left.x = 8.0\n",
    "bottom_left.y = 3.0\n",
    "\n",
    "top_right = Point()\n",
    "top_right.x = 9.0\n",
    "top_right.y = 6.0\n",
    "\n",
    "rectangle.corner1 = bottom_left\n",
    "rectangle.corner2 = top_right\n",
    "\n",
    "dx = 15.0\n",
    "dy = 16.0\n",
    "\n",
    "def move_rectangle(rectangle, dx, dy):\n",
    "    print(f\"The rectangle started with bottom left corner at ({rectangle.corner1.x},{rectangle.corner1.y})\"\n",
    "          f\"\\nTop right corner at ({rectangle.corner2.x},{rectangle.corner2.y})\"\n",
    "          f\"\\ndx is {dx} and dy is {dy}\")\n",
    "    rectangle.corner1.x = rectangle.corner1.x + dx\n",
    "    rectangle.corner2.x = rectangle.corner2.x + dx\n",
    "    rectangle.corner1.y = rectangle.corner1.y + dy\n",
    "    rectangle.corner2.y = rectangle.corner2.y + dy\n",
    "    print(f\"It ended with a bottom left corner at ({rectangle.corner1.x},{rectangle.corner1.y})\"\n",
    "          f\"\\nTop right corner at ({rectangle.corner2.x},{rectangle.corner2.y})\")\n",
    "\n",
    "move_rectangle(rectangle, dx, dy)"
   ]
  }
 ],
 "metadata": {
  "kernelspec": {
   "display_name": "Python 3 (ipykernel)",
   "language": "python",
   "name": "python3"
  },
  "language_info": {
   "codemirror_mode": {
    "name": "ipython",
    "version": 3
   },
   "file_extension": ".py",
   "mimetype": "text/x-python",
   "name": "python",
   "nbconvert_exporter": "python",
   "pygments_lexer": "ipython3",
   "version": "3.9.7"
  }
 },
 "nbformat": 4,
 "nbformat_minor": 5
}
