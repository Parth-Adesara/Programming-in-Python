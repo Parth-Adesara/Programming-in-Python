{
 "cells": [
  {
   "cell_type": "code",
   "execution_count": 2,
   "id": "e778ffa0",
   "metadata": {},
   "outputs": [
    {
     "name": "stdout",
     "output_type": "stream",
     "text": [
      "Enter marks for six subject of Parth Adesara : \n",
      "88\n",
      "78\n",
      "77\n",
      "95\n",
      "96\n",
      "80\n",
      "-----RESULT-----\n",
      "Name :\t\t\tParth Adesara\n",
      "Roll No : \t\t20CS001\n",
      "Division : \t\tCSE-1 A Batch\n",
      "Total Marks : \t514\n"
     ]
    }
   ],
   "source": [
    "class Student:\n",
    "    def __init__(self, rollNumber, name, div):\n",
    "        self.rollNumber = rollNumber\n",
    "        self.name = name\n",
    "        self.div = div\n",
    "\n",
    "class Exam(Student):\n",
    "    def __init__(self, rollNumber, name, div):\n",
    "        super().__init__(rollNumber, name, div)\n",
    "        self.mark = []\n",
    "\n",
    "    def marks(self):\n",
    "        print(f\"Enter marks for six subject of {self.name} : \")\n",
    "        for i in range(6):\n",
    "            temp = int(input())\n",
    "            self.mark.append(temp)\n",
    "\n",
    "class Result(Exam):\n",
    "    def __init__(self, rollNumber, name, div):\n",
    "        super().__init__(rollNumber, name, div)\n",
    "        self.total_marks = 0\n",
    "\n",
    "    def final_result(self):\n",
    "        for i in range(6):\n",
    "            self.total_marks += self.mark[i]\n",
    "\n",
    "        print(f\"-----RESULT-----\"\n",
    "              f\"\\nName :\\t\\t\\t{self.name}\\nRoll No : \\t\\t{self.rollNumber}\\nDivision : \\t\\t{self.div}\\nTotal Marks : \\t{self.total_marks}\")\n",
    "\n",
    "result = Result(\"20CS001\",\"Parth Adesara\",\"CSE-1 A Batch\")\n",
    "result.marks()\n",
    "result.final_result()\n"
   ]
  },
  {
   "cell_type": "code",
   "execution_count": null,
   "id": "e8f3beff",
   "metadata": {},
   "outputs": [],
   "source": []
  }
 ],
 "metadata": {
  "kernelspec": {
   "display_name": "Python 3 (ipykernel)",
   "language": "python",
   "name": "python3"
  },
  "language_info": {
   "codemirror_mode": {
    "name": "ipython",
    "version": 3
   },
   "file_extension": ".py",
   "mimetype": "text/x-python",
   "name": "python",
   "nbconvert_exporter": "python",
   "pygments_lexer": "ipython3",
   "version": "3.9.7"
  }
 },
 "nbformat": 4,
 "nbformat_minor": 5
}
