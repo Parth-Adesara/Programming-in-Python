{
 "cells": [
  {
   "cell_type": "code",
   "execution_count": 2,
   "id": "486557e1",
   "metadata": {},
   "outputs": [
    {
     "name": "stdout",
     "output_type": "stream",
     "text": [
      "15.5\n",
      "17.0\n",
      "0    25\n",
      "dtype: int64\n",
      "22\n",
      "10.290772565750348\n",
      "Variance of sample set is 105.9\n"
     ]
    }
   ],
   "source": [
    "from re import A\n",
    "import statistics\n",
    "import pandas as pd\n",
    "  \n",
    "sr = pd.Series([10, 25, 3, 25, 24, 6])\n",
    "\n",
    "mean = sr.mean()\n",
    "median = sr.median()\n",
    "mode = sr.mode()\n",
    "range1 = sr.max() - sr.min(); \n",
    "stdeviation = sr.std(axis=0,skipna=True)\n",
    "\n",
    "print(mean)\n",
    "print(median)\n",
    "print(mode)\n",
    "print(range1)\n",
    "print(stdeviation)\n",
    "print(\"Variance of sample set is % s\"\n",
    "      %(statistics.variance(sr)))\n"
   ]
  }
 ],
 "metadata": {
  "kernelspec": {
   "display_name": "Python 3 (ipykernel)",
   "language": "python",
   "name": "python3"
  },
  "language_info": {
   "codemirror_mode": {
    "name": "ipython",
    "version": 3
   },
   "file_extension": ".py",
   "mimetype": "text/x-python",
   "name": "python",
   "nbconvert_exporter": "python",
   "pygments_lexer": "ipython3",
   "version": "3.9.7"
  }
 },
 "nbformat": 4,
 "nbformat_minor": 5
}
