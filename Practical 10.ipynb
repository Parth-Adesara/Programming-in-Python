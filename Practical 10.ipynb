{
 "cells": [
  {
   "cell_type": "code",
   "execution_count": 4,
   "id": "b065865b",
   "metadata": {},
   "outputs": [
    {
     "data": {
      "text/plain": [
       "''"
      ]
     },
     "execution_count": 4,
     "metadata": {},
     "output_type": "execute_result"
    }
   ],
   "source": [
    "from fpdf import FPDF\n",
    "\n",
    "pdf = FPDF()\n",
    "pdf.add_page()\n",
    "  \n",
    "pdf.set_font(\"Arial\", size = 15)\n",
    "  \n",
    "pdf.cell(200, 10, txt = \"Name: Parth Adesara\",ln = 1, align = 'C') \n",
    "pdf.cell(200, 10, txt = \"ID: 20CS001\",ln = 2, align = 'C')\n",
    "pdf.cell(200, 10, txt = \"Practical 10\",ln = 4, align = 'C')\n",
    "pdf.cell(200, 10, txt = \"RESULT\",ln = 6, align = 'C')\n",
    "pdf.cell(200, 10, txt = \"CA224 Introduction to web designing                AA\",ln = 7, align = 'C')\n",
    "pdf.cell(200, 10, txt = \"CE244 SGP-I                                        AA\",ln = 8, align = 'C')\n",
    "pdf.cell(200, 10, txt = \"CE251 Java Programming                             AB\",ln = 9, align = 'C')\n",
    "pdf.cell(200, 10, txt = \"CE251 Java Programming(Practical)                  BB\",ln = 10, align = 'C')\n",
    "pdf.cell(200, 10, txt = \"CE252 Digital Electronics                          AA\",ln = 11, align = 'C')\n",
    "pdf.cell(200, 10, txt = \"CE252 Digital Electronics(Practical)               BB\",ln = 12, align = 'C')\n",
    "pdf.cell(200, 10, txt = \"CE257 Data Communicatons & Networking              AA\",ln = 13, align = 'C')\n",
    "pdf.cell(200, 10, txt = \"CE257 Data Communicatons & Networking(Practical)   AA\",ln = 14, align = 'C')\n",
    "pdf.cell(200, 10, txt = \"HS121 Creativity,Problem Solving & Innovative      AA\",ln = 15, align = 'C')\n",
    "pdf.cell(200, 10, txt = \"MA253 Discrete Mathematics & Algebra               AA\",ln = 16, align = 'C')\n",
    "pdf.cell(200, 10, txt = \"CGPA: 9.64         SGPA:9.71\",ln = 18, align = 'C')\n",
    "  \n",
    "pdf.output(\"20CS001_Practical 10.pdf\") "
   ]
  },
  {
   "cell_type": "code",
   "execution_count": null,
   "id": "de7a76ad",
   "metadata": {},
   "outputs": [],
   "source": []
  }
 ],
 "metadata": {
  "kernelspec": {
   "display_name": "Python 3 (ipykernel)",
   "language": "python",
   "name": "python3"
  },
  "language_info": {
   "codemirror_mode": {
    "name": "ipython",
    "version": 3
   },
   "file_extension": ".py",
   "mimetype": "text/x-python",
   "name": "python",
   "nbconvert_exporter": "python",
   "pygments_lexer": "ipython3",
   "version": "3.9.7"
  }
 },
 "nbformat": 4,
 "nbformat_minor": 5
}
