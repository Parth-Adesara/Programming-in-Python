{
 "cells": [
  {
   "cell_type": "code",
   "execution_count": 1,
   "id": "bfa8e9b2",
   "metadata": {},
   "outputs": [
    {
     "name": "stdout",
     "output_type": "stream",
     "text": [
      "This statement is raising an arithmetic exception.\n"
     ]
    }
   ],
   "source": [
    "try:  \n",
    "    a = 10/0  \n",
    "    print (a)\n",
    "except ArithmeticError:  \n",
    "        print (\"This statement is raising an arithmetic exception.\")\n",
    "else:  \n",
    "    print (\"Success.\")"
   ]
  }
 ],
 "metadata": {
  "kernelspec": {
   "display_name": "Python 3 (ipykernel)",
   "language": "python",
   "name": "python3"
  },
  "language_info": {
   "codemirror_mode": {
    "name": "ipython",
    "version": 3
   },
   "file_extension": ".py",
   "mimetype": "text/x-python",
   "name": "python",
   "nbconvert_exporter": "python",
   "pygments_lexer": "ipython3",
   "version": "3.9.7"
  }
 },
 "nbformat": 4,
 "nbformat_minor": 5
}
