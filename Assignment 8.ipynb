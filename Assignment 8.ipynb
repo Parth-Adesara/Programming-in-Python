{
 "cells": [
  {
   "cell_type": "code",
   "execution_count": 2,
   "id": "00e7ff26",
   "metadata": {},
   "outputs": [
    {
     "name": "stdout",
     "output_type": "stream",
     "text": [
      "Inside Child Class\n",
      "Inside Parent Class 2\n"
     ]
    }
   ],
   "source": [
    "class P1_class():\n",
    "          \n",
    "\n",
    "    def show(self):\n",
    "        print(\"Inside Parent Class 1\")\n",
    "          \n",
    "class P2_class():\n",
    "          \n",
    "\n",
    "    def display(self):\n",
    "        print(\"Inside Parent Class 2\")\n",
    "          \n",
    "class Child_class(P1_class, P2_class):\n",
    "          \n",
    "\n",
    "    def show(self):\n",
    "        print(\"Inside Child Class\")\n",
    "     \n",
    "obj = Child_class()\n",
    "  \n",
    "obj.show()\n",
    "obj.display()"
   ]
  }
 ],
 "metadata": {
  "kernelspec": {
   "display_name": "Python 3 (ipykernel)",
   "language": "python",
   "name": "python3"
  },
  "language_info": {
   "codemirror_mode": {
    "name": "ipython",
    "version": 3
   },
   "file_extension": ".py",
   "mimetype": "text/x-python",
   "name": "python",
   "nbconvert_exporter": "python",
   "pygments_lexer": "ipython3",
   "version": "3.9.7"
  }
 },
 "nbformat": 4,
 "nbformat_minor": 5
}
