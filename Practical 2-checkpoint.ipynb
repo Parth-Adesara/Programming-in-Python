{
 "cells": [
  {
   "cell_type": "code",
   "execution_count": 14,
   "id": "3d3e3e5e",
   "metadata": {},
   "outputs": [
    {
     "name": "stdout",
     "output_type": "stream",
     "text": [
      "Present,  value = 200\n",
      "Not present\n"
     ]
    }
   ],
   "source": [
    "#D.a\n",
    "\"\"\"\n",
    "person = {\n",
    "    'first_name':'Asabeneh',\n",
    "    'last_name':'Yetayeh',\n",
    "    'age':250\n",
    "    }\n",
    "print('first_name' in person) #True\n",
    "\"\"\"\n",
    "def checkKey(dict, key):\n",
    "    if key in dict:\n",
    "        print(\"Present, \", end =\" \")\n",
    "        print(\"value =\", dict[key])\n",
    "    else:\n",
    "        print(\"Not present\")\n",
    "\n",
    "# Driver Code\n",
    "dict = {'a': 100, 'b':200, 'c':300}\n",
    "\n",
    "keyy = 'b'\n",
    "checkKey(dict, keyy)\n",
    "\n",
    "keyy = 'w'\n",
    "checkKey(dict, keyy)"
   ]
  },
  {
   "cell_type": "code",
   "execution_count": 15,
   "id": "8093b679",
   "metadata": {},
   "outputs": [
    {
     "name": "stdout",
     "output_type": "stream",
     "text": [
      "{'a': 100, 'b': 200, 'x': 300, 'y': 200}\n"
     ]
    }
   ],
   "source": [
    "#D.b\n",
    "\"\"\"\n",
    "d1 = {'a': 100, 'b': 200}\n",
    "d2 = {'x': 300, 'y': 200}\n",
    "d1.update(d2)\n",
    "print(d1)\n",
    "\"\"\"\n",
    "d1 = {'a': 100, 'b': 200}\n",
    "d2 = {'x': 300, 'y': 200}\n",
    "d = d1.copy() #creating temp file\n",
    "d.update(d2)  #print(Merge(d1,d2))\n",
    "print(d)"
   ]
  },
  {
   "cell_type": "code",
   "execution_count": 16,
   "id": "ad43e7aa",
   "metadata": {},
   "outputs": [
    {
     "name": "stdout",
     "output_type": "stream",
     "text": [
      "600\n"
     ]
    }
   ],
   "source": [
    "#D.c\n",
    "my_dict = {'A': 100, 'B': 200, 'C': 300}\n",
    "sum = 0\n",
    "for i in my_dict.values():\n",
    "    sum = sum + i\n",
    "print(sum)"
   ]
  },
  {
   "cell_type": "code",
   "execution_count": 29,
   "id": "c4d92799",
   "metadata": {},
   "outputs": [
    {
     "name": "stdout",
     "output_type": "stream",
     "text": [
      "{0: 10, 1: 20, 2: 30}\n"
     ]
    }
   ],
   "source": [
    "#D.d\n",
    "\"\"\"\n",
    "d = {0:10, 1:20}\n",
    "print(d)\n",
    "d.update({2:30})\n",
    "print(d)\n",
    "\"\"\"\n",
    "d = {0:10, 1:20}\n",
    "d[2] = 30\n",
    "print(d)"
   ]
  },
  {
   "cell_type": "code",
   "execution_count": 28,
   "id": "8cd790bb",
   "metadata": {},
   "outputs": [
    {
     "name": "stdout",
     "output_type": "stream",
     "text": [
      "{1: 10, 2: 20, 3: 30, 4: 40, 5: 50, 6: 60}\n"
     ]
    }
   ],
   "source": [
    "#D.e\n",
    "\"\"\"\n",
    "dic1={1:10, 2:20}\n",
    "dic2={3:30, 4:40}\n",
    "dic3={5:50,6:60}\n",
    "dic4 = {**dic1, **dic2, **dic3}\n",
    "print(dic4)\n",
    "\"\"\"\n",
    "dic1={1:10, 2:20}\n",
    "dic2={3:30, 4:40}\n",
    "dic3={5:50,6:60}\n",
    "dic4 = {}\n",
    "for d in (dic1, dic2, dic3):\n",
    "    dic4.update(d)\n",
    "print(dic4)"
   ]
  },
  {
   "cell_type": "code",
   "execution_count": 31,
   "id": "ad013ada",
   "metadata": {},
   "outputs": [
    {
     "name": "stdout",
     "output_type": "stream",
     "text": [
      "('String', False, 3.2, 1, (2+3j))\n"
     ]
    }
   ],
   "source": [
    "#T.a\n",
    "tuple_sample = (\"String\", False, 3.2, 1, 2+3j)\n",
    "print(tuple_sample)"
   ]
  },
  {
   "cell_type": "code",
   "execution_count": 32,
   "id": "6ff80820",
   "metadata": {},
   "outputs": [
    {
     "name": "stdout",
     "output_type": "stream",
     "text": [
      "1\n"
     ]
    }
   ],
   "source": [
    "#T.b\n",
    "numbers = (1, 2, 3, 4, 5, 6, 7)\n",
    "print(numbers[0])"
   ]
  },
  {
   "cell_type": "code",
   "execution_count": 36,
   "id": "627dd16d",
   "metadata": {},
   "outputs": [
    {
     "name": "stdout",
     "output_type": "stream",
     "text": [
      "('A', 'B', 'C', 'D', 'E', 'F', 'G')\n",
      "('A', 'B', 'C', 'D', 'E', 'F', 'G', 'new')\n",
      "('A', 'B', 'C', 'D', '1', '2', '3', 'E', 'F', 'G', 'new')\n"
     ]
    }
   ],
   "source": [
    "#T.c\n",
    "tuplex = ('A', 'B', 'C', 'D', 'E', 'F', 'G')\n",
    "print(tuplex)\n",
    "\n",
    "#Basically we cannot add items inside a tuple because tuples are immutable.\n",
    "#So for the following we could merge multiples tuples with '+' operator.\n",
    "tuplex = tuplex + ('new',)\n",
    "print(tuplex)\n",
    "\n",
    "#Items can also be added in specific index\n",
    "tuplex = tuplex[0:4] + ('1', '2', '3') + tuplex[4:]\n",
    "print(tuplex)\n"
   ]
  },
  {
   "cell_type": "code",
   "execution_count": 37,
   "id": "7bc0efe3",
   "metadata": {},
   "outputs": [
    {
     "name": "stdout",
     "output_type": "stream",
     "text": [
      "TUPLE\n"
     ]
    }
   ],
   "source": [
    "#T.d\n",
    "tuplex = ('T', 'U', 'P', 'L', 'E')\n",
    "str = ''.join(tuplex)\n",
    "print(str)"
   ]
  },
  {
   "cell_type": "code",
   "execution_count": 38,
   "id": "f07176d3",
   "metadata": {},
   "outputs": [
    {
     "name": "stdout",
     "output_type": "stream",
     "text": [
      "5\n"
     ]
    }
   ],
   "source": [
    "#T.e\n",
    "tuplex = ('P', 'A', 'R', 'T', 'H')\n",
    "print(len(tuplex))"
   ]
  },
  {
   "cell_type": "code",
   "execution_count": 41,
   "id": "0abc51cf",
   "metadata": {},
   "outputs": [
    {
     "name": "stdout",
     "output_type": "stream",
     "text": [
      "{'Badminton', 'Football', 'Cricket'}\n",
      "{'Badminton', 'Football', 'Hockey', 'Cricket'}\n",
      "{'Kabaddi', 'Football', 'Hockey', 'Tennis', 'Badminton', 'Cricket', 'Baseball'}\n",
      "None\n"
     ]
    }
   ],
   "source": [
    "#S.a\n",
    "games = {'Cricket', 'Football', 'Badminton'}\n",
    "print(games)\n",
    "\n",
    "games.add('Hockey')\n",
    "print(games)\n",
    "\n",
    "games.update(['Baseball', 'Tennis', 'Kabaddi'])\n",
    "print(games)\n",
    "\n",
    "print(games.clear())"
   ]
  },
  {
   "cell_type": "code",
   "execution_count": 50,
   "id": "d163610d",
   "metadata": {},
   "outputs": [
    {
     "name": "stdout",
     "output_type": "stream",
     "text": [
      "{'Carrot', 'Brinjal', 'Pumpkin', 'Tomato', 'Potato'}\n",
      "{'Carrot', 'Brinjal', 'Pumpkin', 'Potato'}\n"
     ]
    }
   ],
   "source": [
    "#s.b\n",
    "vegetables = {'Tomato', 'Potato', 'Brinjal', 'Pumpkin', 'Carrot'}\n",
    "print(vegetables)\n",
    "if 'Tomato' in vegetables:\n",
    "    vegetables.remove('Tomato')\n",
    "    print(vegetables)"
   ]
  },
  {
   "cell_type": "code",
   "execution_count": 53,
   "id": "bab8e07d",
   "metadata": {},
   "outputs": [
    {
     "name": "stdout",
     "output_type": "stream",
     "text": [
      "set_A:  {1, 2, 3, 4, 5, 6, 7}\n",
      "set_B:  {5, 6, 7, 8, 9, 10}\n",
      "Intersection:  {5, 6, 7}\n",
      "Union:  {1, 2, 3, 4, 5, 6, 7, 8, 9, 10}\n",
      "Difference(set_A - set_B):  {1, 2, 3, 4}\n",
      "Difference(set_B - set_A):  {8, 9, 10}\n"
     ]
    }
   ],
   "source": [
    "#s.c\n",
    "set_A = {1, 2, 3, 4, 5, 6, 7}\n",
    "set_B = {5, 6, 7, 8, 9, 10}\n",
    "print('set_A: ', set_A)\n",
    "print('set_B: ', set_B)\n",
    "print('Intersection: ', set_A.intersection(set_B))\n",
    "print('Union: ', set_A.union(set_B))\n",
    "print('Difference(set_A - set_B): ', set_A.difference(set_B))\n",
    "print('Difference(set_B - set_A): ', set_B.difference(set_A))\n"
   ]
  },
  {
   "cell_type": "code",
   "execution_count": 54,
   "id": "486edd54",
   "metadata": {},
   "outputs": [
    {
     "name": "stdout",
     "output_type": "stream",
     "text": [
      "{16, 112, 150, 9, 111}\n",
      "Maximum:  150\n",
      "Minimum:  9\n"
     ]
    }
   ],
   "source": [
    "#s.d\n",
    "numbers = {16, 9, 111, 112, 150}\n",
    "print(numbers)\n",
    "print('Maximum: ', max(numbers))\n",
    "print('Minimum: ', min(numbers))"
   ]
  },
  {
   "cell_type": "code",
   "execution_count": 56,
   "id": "1a28540a",
   "metadata": {},
   "outputs": [
    {
     "name": "stdout",
     "output_type": "stream",
     "text": [
      "For List\n",
      "Element with highest frequency : mango\n",
      "Number of times element repeated : 3\n",
      "\n",
      "\n"
     ]
    }
   ],
   "source": [
    "#s.e\n",
    "#LIST\n",
    "print(\"For List\")\n",
    "fruits=['apple','banana','orange','mango','mango','grapes','mango']\n",
    "res = max(set(fruits), key = fruits.count)\n",
    "number=fruits.count(res)\n",
    "print(\"Element with highest frequency :\",res)\n",
    "print(\"Number of times element repeated :\", number)\n",
    "print('\\n')"
   ]
  },
  {
   "cell_type": "code",
   "execution_count": 60,
   "id": "5ed6887f",
   "metadata": {},
   "outputs": [
    {
     "name": "stdout",
     "output_type": "stream",
     "text": [
      "For Tuple\n",
      "Element with highest frequency : orange\n",
      "Number of times element repeated : 3\n",
      "\n",
      "\n"
     ]
    }
   ],
   "source": [
    "#TUPLE\n",
    "print(\"For Tuple\")\n",
    "fruits_tuple=('apple','banana','orange','mango','orange','grapes','orange')\n",
    "res = max(set(fruits_tuple), key = fruits_tuple.count)\n",
    "number=fruits_tuple.count(res)\n",
    "print(\"Element with highest frequency :\",res)\n",
    "print(\"Number of times element repeated :\", number)\n",
    "print('\\n')"
   ]
  },
  {
   "cell_type": "code",
   "execution_count": 66,
   "id": "caa06638",
   "metadata": {},
   "outputs": [
    {
     "name": "stdout",
     "output_type": "stream",
     "text": [
      "For Dictionary\n",
      "Element with highest frequency : ABC\n",
      "Number of times element repeated :  2\n"
     ]
    }
   ],
   "source": [
    "#DICTIONARY\n",
    "print(\"For Dictionary\")\n",
    "student={\n",
    "'name1':'ABC',\n",
    "'name2':'PQR',\n",
    "'name3':'ABC',\n",
    "'name4':'XYZ',\n",
    "'name5':'LMN',\n",
    "'name6':'IJK',\n",
    "}\n",
    "tp=tuple(student.values())\n",
    "\n",
    "count=0\n",
    "element = tp[0]\n",
    "for i in tp:\n",
    "    ctr=tp.count(i)\n",
    "    if(ctr>count):\n",
    "        count=ctr\n",
    "        element=i\n",
    "print(\"Element with highest frequency :\",element)\n",
    "print('Number of times element repeated : ', count)"
   ]
  }
 ],
 "metadata": {
  "kernelspec": {
   "display_name": "Python 3 (ipykernel)",
   "language": "python",
   "name": "python3"
  },
  "language_info": {
   "codemirror_mode": {
    "name": "ipython",
    "version": 3
   },
   "file_extension": ".py",
   "mimetype": "text/x-python",
   "name": "python",
   "nbconvert_exporter": "python",
   "pygments_lexer": "ipython3",
   "version": "3.9.7"
  }
 },
 "nbformat": 4,
 "nbformat_minor": 5
}
